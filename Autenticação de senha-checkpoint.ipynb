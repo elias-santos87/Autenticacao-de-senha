{
 "cells": [
  {
   "cell_type": "code",
   "execution_count": null,
   "id": "662f7010",
   "metadata": {},
   "outputs": [],
   "source": [
    "import getpass\n",
    "database = {'elias.santos': '123456', 'santos.elias': '654321'}\n",
    "usuario = input('Entre com o usuario:')\n",
    "senha = getpass.getpass('Entre com a senha :')\n",
    "for i in database.keys():\n",
    "    if usuario == i:\n",
    "        while senha != database.get(i):\n",
    "            \n",
    "            senha = getpass.getpass('Entre com sua senha novamente : ')\n",
    "        break\n",
    "print('Verificando')"
   ]
  }
 ],
 "metadata": {
  "kernelspec": {
   "display_name": "Python 3",
   "language": "python",
   "name": "python3"
  },
  "language_info": {
   "codemirror_mode": {
    "name": "ipython",
    "version": 3
   },
   "file_extension": ".py",
   "mimetype": "text/x-python",
   "name": "python",
   "nbconvert_exporter": "python",
   "pygments_lexer": "ipython3",
   "version": "3.8.8"
  }
 },
 "nbformat": 4,
 "nbformat_minor": 5
}
